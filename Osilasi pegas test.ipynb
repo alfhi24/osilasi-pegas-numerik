import numpy as np
import matplotlib.pyplot as plt
import math as m

m = 2
x0 = 1.5
v = 0
a = 1.5
k = 0.08
dt = 0.1
tmax = 10
t = 0
tdt = t + dt
x = 1.5

aray = []
xray = []
vray = []
tray = []

i = 0

while t <= tmax :
  
  tray.append(t)
  a = (-k/m) * x
  aray.append(a)
  
  v = v + a * dt
  vray.append(v)
  
  x = x + v * dt
  xray.append(x)
  
  t = t + dt

  print(xray)
  plt.plot(xray,tray,'--',color='blue')

plt.show()
